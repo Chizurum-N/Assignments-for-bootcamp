{
 "cells": [
  {
   "cell_type": "code",
   "execution_count": null,
   "metadata": {},
   "outputs": [],
   "source": [
    "###############Mad Libs Generator##########################\n",
    "\n",
    "#User is prompted with list of inputs such as noun, an adjective, etc.\n",
    "#User inputs their data for the story.\n",
    "#The story is printed with the inputs included.\n",
    "\n",
    "#List of user inputs.\n",
    "shower_or_bath = input(\"Do you like to have a shower or a bath?: \")\n",
    "poop_type = input(\"What type of animal poop do you think it was?: \")\n",
    "food = input(\"What did you have for breakfast?: \")\n",
    "name_of_caller = input(\"Who called your phone this morning?: \")\n",
    "\n",
    "\n",
    "#Premade story template.\n",
    "story = f\"I woke up in the morning, took a {shower_or_bath}, brushed my teeth, and had {food} for breakfast.\\\n",
    "I then decided to go for a run and to my suprise I stepped in {poop_type} poop. \\\n",
    "But my day got better when I had a lovely chat on the phone with {name_of_caller}. It goes to show that good people can brighten up you day.\"\n",
    "\n",
    "print (story)"
   ]
  }
 ],
 "metadata": {
  "language_info": {
   "name": "python"
  },
  "orig_nbformat": 4
 },
 "nbformat": 4,
 "nbformat_minor": 2
}
