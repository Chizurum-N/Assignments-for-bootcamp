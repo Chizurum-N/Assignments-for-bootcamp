{
 "cells": [
  {
   "cell_type": "code",
   "execution_count": 2,
   "metadata": {},
   "outputs": [
    {
     "name": "stdout",
     "output_type": "stream",
     "text": [
      "The number is 5\n",
      "You chose not to play. :(\n"
     ]
    }
   ],
   "source": [
    "##########Rolling Dice Simulator################\n",
    "\n",
    "#Play the dice\n",
    "#Print number.\n",
    "#Ask if you would like to roll again.\n",
    "#If \"yes\", then print another random number.\n",
    "\n",
    "import random\n",
    "\n",
    "min = 1 \n",
    "max = 6\n",
    "attempt1 = random.randint(min,max)\n",
    "play = \"The number is \"  + str(attempt1)\n",
    "print(play)\n",
    "\n",
    "play_again = input(\"Do you wan to play again?:  \")\n",
    "\n",
    "while play_again == \"yes\":\n",
    "    attempt2 = random.randint(min,max)\n",
    "    roll_yes_answer = \"The second number is \" + str(attempt2)\n",
    "    print(roll_yes_answer )\n",
    "    break   \n",
    "else:\n",
    "    print(\"You chose not to play. :(\")\n"
   ]
  },
  {
   "cell_type": "code",
   "execution_count": 9,
   "metadata": {},
   "outputs": [
    {
     "name": "stdout",
     "output_type": "stream",
     "text": [
      "5\n",
      "The number is\n",
      "6\n",
      "Thank you\n"
     ]
    }
   ],
   "source": [
    "##########Rolling Dice Simulator Method 2################\n",
    "import random\n",
    "min = 1\n",
    "max = 6\n",
    "dice = random.randint(min,max)\n",
    "print (dice)\n",
    "while True:\n",
    "    entry = input(\"would you like to roll again?\")\n",
    "    if entry == \"Yes\" or entry == \"yes\":\n",
    "        print (\"The number is\")\n",
    "        dice = random.randint(min,max)\n",
    "        print (dice)\n",
    "    else:\n",
    "        break\n",
    "print (\"Thank you\")"
   ]
  },
  {
   "cell_type": "code",
   "execution_count": 7,
   "metadata": {},
   "outputs": [
    {
     "name": "stdout",
     "output_type": "stream",
     "text": [
      "1\n",
      "You've guessed right!\n"
     ]
    }
   ],
   "source": [
    "###############Guess The Number####################################\n",
    "\n",
    "#Randomly generate a number unknown to the user.\n",
    "#The user guesses what the number is (user inputs the number).\n",
    "#If the user's guess is wrong, state either \"too high\" or \"too low.\"\n",
    "#If user guesses correctly, a positive message should appear.\n",
    "\n",
    "import random\n",
    "\n",
    "generator = random.randint(1,10)\n",
    "print(generator)\n",
    "enter_number = int(input(\"Guess a number between 1 and 10:  \"))\n",
    "\n",
    "if generator == enter_number:\n",
    "    print(\"You've guessed right!\")\n",
    "if generator > enter_number:\n",
    "    print (\"You've entered\" + \" \" + str(enter_number) + \" \" + \"this number is too small.\")\n",
    "else:\n",
    "    if generator < enter_number:\n",
    "        print(\"You've entered\" + \" \" + str(enter_number) + \" \" + \"this number is too big.\")\n"
   ]
  },
  {
   "cell_type": "code",
   "execution_count": 12,
   "metadata": {},
   "outputs": [
    {
     "name": "stdout",
     "output_type": "stream",
     "text": [
      "The number is too low\n"
     ]
    }
   ],
   "source": [
    "###############Guess The Number Method 2############################\n",
    "# generate a random number\n",
    "# user guess the number\n",
    "import random\n",
    "num = random.randint(10,20)\n",
    "guess = None\n",
    "while guess!= num:\n",
    "    guess = input(\"Guess a number between 10 and 20 \")\n",
    "    guess = int(guess)\n",
    "    if guess > 20:\n",
    "        print(\"The number is too high\")\n",
    "    if guess < 10:\n",
    "        print(\"The number is too low\")\n",
    "    if 10 <= guess <= 20:\n",
    "        print(\"Your guess is right\")\n",
    "    else:\n",
    "        break"
   ]
  },
  {
   "cell_type": "code",
   "execution_count": 8,
   "metadata": {},
   "outputs": [
    {
     "name": "stdout",
     "output_type": "stream",
     "text": [
      "I woke up in the morning, took a shower, brushed my teeth, and had cornflakes for breakfast.I then decided to go for a run and to my suprise I stepped in horse poop. But my day got better when I had a lovely chat on the phone with mum. It goes to show that good people can brighten up you day.\n"
     ]
    }
   ],
   "source": [
    "###############Mad Libs Generator##########################\n",
    "\n",
    "#User is prompted with list of inputs such as noun, an adjective, etc.\n",
    "#User inputs their data for the story.\n",
    "#The story is printed with the inputs included.\n",
    "\n",
    "#List of user inputs.\n",
    "showers_or_baths = input(\"Do you like to have a shower or a bath?: \")\n",
    "poop_type = input(\"What type of animal poop do you think it was?: \")\n",
    "food = input(\"What did you have for breakfast?: \")\n",
    "name_of_caller = input(\"Who called your phone that morning?: \")\n",
    "\n",
    "\n",
    "#Premade story template.\n",
    "story = f\"I woke up in the morning, took a {showers_or_baths}, brushed my teeth, and had {food} for breakfast.\\\n",
    "I then decided to go for a run and to my suprise I stepped in {poop_type} poop. \\\n",
    "But my day got better when I had a lovely chat on the phone with {name_of_caller}. It goes to show that good people can brighten up you day.\"\n",
    "\n",
    "print (story)"
   ]
  }
 ],
 "metadata": {
  "kernelspec": {
   "display_name": "Python 3",
   "language": "python",
   "name": "python3"
  },
  "language_info": {
   "codemirror_mode": {
    "name": "ipython",
    "version": 3
   },
   "file_extension": ".py",
   "mimetype": "text/x-python",
   "name": "python",
   "nbconvert_exporter": "python",
   "pygments_lexer": "ipython3",
   "version": "3.9.13"
  },
  "orig_nbformat": 4,
  "vscode": {
   "interpreter": {
    "hash": "c6c0cebb5591826dad2a51fa055f0dc86324d6aa16197e4b1a1580b935845491"
   }
  }
 },
 "nbformat": 4,
 "nbformat_minor": 2
}
