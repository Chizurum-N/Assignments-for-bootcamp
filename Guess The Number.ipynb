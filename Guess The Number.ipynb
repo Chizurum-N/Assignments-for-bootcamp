{
 "cells": [
  {
   "cell_type": "code",
   "execution_count": null,
   "metadata": {},
   "outputs": [],
   "source": [
    "###############Guess The Number####################################\n",
    "\n",
    "#Randomly generate a number unknown to the user.\n",
    "#The user guesses what the number is (user inputs the number).\n",
    "#If the user's guess is wrong, state either \"too high\" or \"too low.\"\n",
    "#If user guesses correctly, a positive message should appear.\n",
    "\n",
    "import random\n",
    "\n",
    "generator = random.randint(1,10)\n",
    "print(generator)\n",
    "enter_number = int(input(\"Guess a number between 1 and 10:  \"))\n",
    "\n",
    "if generator == enter_number:\n",
    "    print(\"You've guessed right!\")\n",
    "if generator > enter_number:\n",
    "    print (\"You've entered\" + \" \" + str(enter_number) + \" \" + \"this number is too small.\")\n",
    "else:\n",
    "    if generator < enter_number:\n",
    "        print(\"You've entered\" + \" \" + str(enter_number) + \" \" + \"this number is too big.\")"
   ]
  }
 ],
 "metadata": {
  "language_info": {
   "name": "python"
  },
  "orig_nbformat": 4
 },
 "nbformat": 4,
 "nbformat_minor": 2
}
