{
 "cells": [
  {
   "cell_type": "code",
   "execution_count": 1,
   "metadata": {},
   "outputs": [
    {
     "name": "stdout",
     "output_type": "stream",
     "text": [
      "The number is 4\n",
      "The second number is 3\n"
     ]
    }
   ],
   "source": [
    "##########Rolling Dice Simulator################\n",
    "\n",
    "#Play the dice\n",
    "#Print number.\n",
    "#Ask if you would like to roll again.\n",
    "#If \"yes\", then print another random number.\n",
    "\n",
    "import random\n",
    "\n",
    "min = 1 \n",
    "max = 6\n",
    "attempt1 = random.randint(min,max)\n",
    "play = \"The number is \"  + str(attempt1)\n",
    "print(play)\n",
    "\n",
    "play_again = input(\"Do you wan to play again?:  \")\n",
    "\n",
    "while play_again == \"yes\":\n",
    "    attempt2 = random.randint(min,max)\n",
    "    roll_yes_answer = \"The second number is \" + str(attempt2)\n",
    "    print(roll_yes_answer )\n",
    "    break   \n",
    "else:\n",
    "    print(\"You chose not to play. :(\")"
   ]
  }
 ],
 "metadata": {
  "kernelspec": {
   "display_name": "Python 3",
   "language": "python",
   "name": "python3"
  },
  "language_info": {
   "codemirror_mode": {
    "name": "ipython",
    "version": 3
   },
   "file_extension": ".py",
   "mimetype": "text/x-python",
   "name": "python",
   "nbconvert_exporter": "python",
   "pygments_lexer": "ipython3",
   "version": "3.9.13"
  },
  "orig_nbformat": 4,
  "vscode": {
   "interpreter": {
    "hash": "c6c0cebb5591826dad2a51fa055f0dc86324d6aa16197e4b1a1580b935845491"
   }
  }
 },
 "nbformat": 4,
 "nbformat_minor": 2
}
